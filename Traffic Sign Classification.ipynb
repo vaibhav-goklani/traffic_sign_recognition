{
 "cells": [
  {
   "cell_type": "markdown",
   "id": "e3c71f83",
   "metadata": {},
   "source": [
    "# Environment Setup"
   ]
  },
  {
   "cell_type": "code",
   "execution_count": 1,
   "id": "963c8b89",
   "metadata": {},
   "outputs": [],
   "source": [
    "import numpy as np\n",
    "import pandas as pd\n",
    "import matplotlib.pyplot as plt\n",
    "import cv2\n",
    "import os\n",
    "from PIL import Image"
   ]
  },
  {
   "cell_type": "markdown",
   "id": "549f8ec7",
   "metadata": {},
   "source": [
    "# Data Preprocessing"
   ]
  },
  {
   "cell_type": "code",
   "execution_count": 2,
   "id": "b79b3e27",
   "metadata": {},
   "outputs": [],
   "source": [
    "train_path = \".\\\\archive\\\\Train\"\n",
    "test_path = \".\\\\archive\\\\Test\""
   ]
  },
  {
   "cell_type": "code",
   "execution_count": 3,
   "id": "5f143363",
   "metadata": {},
   "outputs": [],
   "source": [
    "data = []\n",
    "labels = []\n",
    "classes = len(os.listdir(train_path))"
   ]
  },
  {
   "cell_type": "code",
   "execution_count": 32,
   "id": "0258d086",
   "metadata": {},
   "outputs": [
    {
     "name": "stdout",
     "output_type": "stream",
     "text": [
      "Precent complete: 0.0\n",
      "Precent complete: 2.3255813953488373\n",
      "Precent complete: 4.651162790697675\n",
      "Precent complete: 6.976744186046512\n",
      "Precent complete: 9.30232558139535\n",
      "Precent complete: 11.627906976744185\n",
      "Precent complete: 13.953488372093023\n",
      "Precent complete: 16.27906976744186\n",
      "Precent complete: 18.6046511627907\n",
      "Precent complete: 20.930232558139537\n",
      "Precent complete: 23.25581395348837\n",
      "Precent complete: 25.58139534883721\n",
      "Precent complete: 27.906976744186046\n",
      "Precent complete: 30.232558139534884\n",
      "Precent complete: 32.55813953488372\n",
      "Precent complete: 34.883720930232556\n",
      "Precent complete: 37.2093023255814\n",
      "Precent complete: 39.53488372093023\n",
      "Precent complete: 41.86046511627907\n",
      "Precent complete: 44.18604651162791\n",
      "Precent complete: 46.51162790697674\n",
      "Precent complete: 48.83720930232558\n",
      "Precent complete: 51.16279069767442\n",
      "Precent complete: 53.48837209302326\n",
      "Precent complete: 55.81395348837209\n",
      "Precent complete: 58.13953488372093\n",
      "Precent complete: 60.46511627906977\n",
      "Precent complete: 62.7906976744186\n",
      "Precent complete: 65.11627906976744\n",
      "Precent complete: 67.44186046511628\n",
      "Precent complete: 69.76744186046511\n",
      "Precent complete: 72.09302325581395\n",
      "Precent complete: 74.4186046511628\n",
      "Precent complete: 76.74418604651163\n",
      "Precent complete: 79.06976744186046\n",
      "Precent complete: 81.3953488372093\n",
      "Precent complete: 83.72093023255815\n",
      "Precent complete: 86.04651162790698\n",
      "Precent complete: 88.37209302325581\n",
      "Precent complete: 90.69767441860465\n",
      "Precent complete: 93.02325581395348\n",
      "Precent complete: 95.34883720930233\n",
      "Precent complete: 97.67441860465117\n"
     ]
    }
   ],
   "source": [
    "for i in range(classes):\n",
    "    path = os.path.join(train_path,str(i))\n",
    "    images = os.listdir(path)\n",
    "    for img in images:\n",
    "        try:\n",
    "            image = Image.open(path + '\\\\' + img)\n",
    "            image = image.resize((30,30))\n",
    "            image = np.array(image)\n",
    "            data.append(image)\n",
    "            labels.append(i)\n",
    "        except Exception as e:\n",
    "            print(e)\n",
    "    print(\"Precent complete: \" + str(i*100/43))"
   ]
  },
  {
   "cell_type": "markdown",
   "id": "adb67ef1",
   "metadata": {},
   "source": [
    "# Coverting Data to Numpy Array"
   ]
  },
  {
   "cell_type": "code",
   "execution_count": 37,
   "id": "47278e78",
   "metadata": {},
   "outputs": [
    {
     "name": "stdout",
     "output_type": "stream",
     "text": [
      "(39209, 30, 30, 3)\n",
      "(39209,)\n"
     ]
    }
   ],
   "source": [
    "data = np.array(data)\n",
    "labels = np.array(labels)\n",
    "print(data.shape)\n",
    "print(labels.shape)"
   ]
  },
  {
   "cell_type": "code",
   "execution_count": 35,
   "id": "89d3902b",
   "metadata": {},
   "outputs": [],
   "source": [
    "np.save(\"./archive/data\", data)\n",
    "np.save(\"./archive/target\", labels)"
   ]
  },
  {
   "cell_type": "markdown",
   "id": "c3447fc5",
   "metadata": {},
   "source": [
    "# Load Data & Labels"
   ]
  },
  {
   "cell_type": "code",
   "execution_count": 4,
   "id": "c9e8b4a0",
   "metadata": {},
   "outputs": [],
   "source": [
    "data = np.load(\"./archive/data.npy\")\n",
    "labels = np.load(\"./archive/target.npy\")"
   ]
  },
  {
   "cell_type": "code",
   "execution_count": 5,
   "id": "daba776f",
   "metadata": {},
   "outputs": [
    {
     "name": "stdout",
     "output_type": "stream",
     "text": [
      "(39209, 30, 30, 3) (39209,)\n"
     ]
    }
   ],
   "source": [
    "print(data.shape, labels.shape)"
   ]
  },
  {
   "cell_type": "markdown",
   "id": "1af0092d",
   "metadata": {},
   "source": [
    "# Creating X and y"
   ]
  },
  {
   "cell_type": "code",
   "execution_count": 40,
   "id": "98fef259",
   "metadata": {},
   "outputs": [],
   "source": [
    "from sklearn.model_selection import train_test_split"
   ]
  },
  {
   "cell_type": "code",
   "execution_count": 41,
   "id": "62c3c730",
   "metadata": {},
   "outputs": [],
   "source": [
    "X_train, X_test, y_train, y_test = train_test_split(data, labels, test_size=0.2, random_state=0)"
   ]
  },
  {
   "cell_type": "code",
   "execution_count": 42,
   "id": "83f4ab89",
   "metadata": {},
   "outputs": [
    {
     "name": "stdout",
     "output_type": "stream",
     "text": [
      "(31367, 30, 30, 3) (7842, 30, 30, 3) (31367,) (7842,)\n"
     ]
    }
   ],
   "source": [
    "print(X_train.shape, X_test.shape, y_train.shape, y_test.shape)"
   ]
  },
  {
   "cell_type": "markdown",
   "id": "3dd2ecd4",
   "metadata": {},
   "source": [
    "# Onehot Encoding the Labels"
   ]
  },
  {
   "cell_type": "code",
   "execution_count": 43,
   "id": "79d08eb8",
   "metadata": {},
   "outputs": [],
   "source": [
    "from keras.utils import to_categorical"
   ]
  },
  {
   "cell_type": "code",
   "execution_count": 44,
   "id": "c43a5b16",
   "metadata": {},
   "outputs": [],
   "source": [
    "y_train = to_categorical(y_train, 43)\n",
    "y_test = to_categorical(y_test, 43)"
   ]
  },
  {
   "cell_type": "markdown",
   "id": "8430f148",
   "metadata": {},
   "source": [
    "# Building the Model"
   ]
  },
  {
   "cell_type": "code",
   "execution_count": 47,
   "id": "cb2264a9",
   "metadata": {},
   "outputs": [],
   "source": [
    "import tensorflow as tf\n",
    "from keras.models import Sequential, load_model\n",
    "from keras.layers import Conv2D, MaxPool2D, Dense, Flatten, Dropout"
   ]
  },
  {
   "cell_type": "code",
   "execution_count": 48,
   "id": "9d2e8405",
   "metadata": {},
   "outputs": [],
   "source": [
    "model = Sequential()\n",
    "model.add(Conv2D(filters=32, kernel_size=(5,5), activation='relu', input_shape=X_train.shape[1:]))\n",
    "model.add(Conv2D(filters=32, kernel_size=(5,5), activation='relu'))\n",
    "model.add(MaxPool2D(pool_size=(2,2)))\n",
    "model.add(Dropout(rate=0.25))\n",
    "model.add(Conv2D(filters=64, kernel_size=(3,3), activation='relu'))\n",
    "model.add(Conv2D(filters=64, kernel_size=(3,3), activation='relu'))\n",
    "model.add(MaxPool2D(pool_size=(2,2)))\n",
    "model.add(Dropout(rate=0.25))\n",
    "model.add(Flatten())\n",
    "model.add(Dense(256, activation='relu'))\n",
    "model.add(Dropout(rate=0.5))\n",
    "model.add(Dense(43, activation='softmax'))"
   ]
  },
  {
   "cell_type": "code",
   "execution_count": 49,
   "id": "22f06def",
   "metadata": {},
   "outputs": [
    {
     "name": "stdout",
     "output_type": "stream",
     "text": [
      "Model: \"sequential\"\n",
      "_________________________________________________________________\n",
      " Layer (type)                Output Shape              Param #   \n",
      "=================================================================\n",
      " conv2d (Conv2D)             (None, 26, 26, 32)        2432      \n",
      "                                                                 \n",
      " conv2d_1 (Conv2D)           (None, 22, 22, 32)        25632     \n",
      "                                                                 \n",
      " max_pooling2d (MaxPooling2D  (None, 11, 11, 32)       0         \n",
      " )                                                               \n",
      "                                                                 \n",
      " dropout (Dropout)           (None, 11, 11, 32)        0         \n",
      "                                                                 \n",
      " conv2d_2 (Conv2D)           (None, 9, 9, 64)          18496     \n",
      "                                                                 \n",
      " conv2d_3 (Conv2D)           (None, 7, 7, 64)          36928     \n",
      "                                                                 \n",
      " max_pooling2d_1 (MaxPooling  (None, 3, 3, 64)         0         \n",
      " 2D)                                                             \n",
      "                                                                 \n",
      " dropout_1 (Dropout)         (None, 3, 3, 64)          0         \n",
      "                                                                 \n",
      " flatten (Flatten)           (None, 576)               0         \n",
      "                                                                 \n",
      " dense (Dense)               (None, 256)               147712    \n",
      "                                                                 \n",
      " dropout_2 (Dropout)         (None, 256)               0         \n",
      "                                                                 \n",
      " dense_1 (Dense)             (None, 43)                11051     \n",
      "                                                                 \n",
      "=================================================================\n",
      "Total params: 242,251\n",
      "Trainable params: 242,251\n",
      "Non-trainable params: 0\n",
      "_________________________________________________________________\n"
     ]
    }
   ],
   "source": [
    "model.summaryary()"
   ]
  },
  {
   "cell_type": "code",
   "execution_count": 50,
   "id": "c6d34296",
   "metadata": {},
   "outputs": [],
   "source": [
    "model.compile(loss='categorical_crossentropy', optimizer='adam', metrics=['accuracy'])"
   ]
  },
  {
   "cell_type": "code",
   "execution_count": 51,
   "id": "b0bed8c0",
   "metadata": {},
   "outputs": [
    {
     "name": "stdout",
     "output_type": "stream",
     "text": [
      "Epoch 1/20\n",
      "981/981 [==============================] - 121s 118ms/step - loss: 2.0672 - accuracy: 0.4696 - val_loss: 0.6225 - val_accuracy: 0.8409\n",
      "Epoch 2/20\n",
      "981/981 [==============================] - 96s 98ms/step - loss: 0.7278 - accuracy: 0.7839 - val_loss: 0.2794 - val_accuracy: 0.9350\n",
      "Epoch 3/20\n",
      "981/981 [==============================] - 97s 98ms/step - loss: 0.4072 - accuracy: 0.8798 - val_loss: 0.1240 - val_accuracy: 0.9676\n",
      "Epoch 4/20\n",
      "981/981 [==============================] - 95s 96ms/step - loss: 0.3032 - accuracy: 0.9135 - val_loss: 0.1164 - val_accuracy: 0.9719\n",
      "Epoch 5/20\n",
      "981/981 [==============================] - 94s 95ms/step - loss: 0.2742 - accuracy: 0.9222 - val_loss: 0.0856 - val_accuracy: 0.9797\n",
      "Epoch 6/20\n",
      "981/981 [==============================] - 97s 99ms/step - loss: 0.2494 - accuracy: 0.9304 - val_loss: 0.0882 - val_accuracy: 0.9764\n",
      "Epoch 7/20\n",
      "981/981 [==============================] - 143s 146ms/step - loss: 0.2281 - accuracy: 0.9362 - val_loss: 0.1006 - val_accuracy: 0.9737\n",
      "Epoch 8/20\n",
      "981/981 [==============================] - 155s 158ms/step - loss: 0.2194 - accuracy: 0.9405 - val_loss: 0.0912 - val_accuracy: 0.9762\n",
      "Epoch 9/20\n",
      "981/981 [==============================] - 251s 256ms/step - loss: 0.2112 - accuracy: 0.9423 - val_loss: 0.0756 - val_accuracy: 0.9824\n",
      "Epoch 10/20\n",
      "981/981 [==============================] - 189s 193ms/step - loss: 0.2087 - accuracy: 0.9444 - val_loss: 0.0612 - val_accuracy: 0.9858\n",
      "Epoch 11/20\n",
      "981/981 [==============================] - 126s 128ms/step - loss: 0.2130 - accuracy: 0.9427 - val_loss: 0.0622 - val_accuracy: 0.9830\n",
      "Epoch 12/20\n",
      "981/981 [==============================] - 140s 143ms/step - loss: 0.1976 - accuracy: 0.9489 - val_loss: 0.0537 - val_accuracy: 0.9852\n",
      "Epoch 13/20\n",
      "981/981 [==============================] - 138s 141ms/step - loss: 0.2347 - accuracy: 0.9398 - val_loss: 0.0618 - val_accuracy: 0.9852\n",
      "Epoch 14/20\n",
      "981/981 [==============================] - 139s 142ms/step - loss: 0.2015 - accuracy: 0.9476 - val_loss: 0.0508 - val_accuracy: 0.9881\n",
      "Epoch 15/20\n",
      "981/981 [==============================] - 125s 127ms/step - loss: 0.2026 - accuracy: 0.9478 - val_loss: 0.0936 - val_accuracy: 0.9778\n",
      "Epoch 16/20\n",
      "981/981 [==============================] - 124s 126ms/step - loss: 0.2023 - accuracy: 0.9498 - val_loss: 0.0780 - val_accuracy: 0.9783\n",
      "Epoch 17/20\n",
      "981/981 [==============================] - 125s 127ms/step - loss: 0.1812 - accuracy: 0.9542 - val_loss: 0.0594 - val_accuracy: 0.9838\n",
      "Epoch 18/20\n",
      "981/981 [==============================] - 120s 122ms/step - loss: 0.2013 - accuracy: 0.9489 - val_loss: 0.0593 - val_accuracy: 0.9864\n",
      "Epoch 19/20\n",
      "981/981 [==============================] - 121s 123ms/step - loss: 0.2135 - accuracy: 0.9490 - val_loss: 0.1151 - val_accuracy: 0.9697\n",
      "Epoch 20/20\n",
      "981/981 [==============================] - 122s 124ms/step - loss: 0.1889 - accuracy: 0.9551 - val_loss: 0.0728 - val_accuracy: 0.9827\n"
     ]
    }
   ],
   "source": [
    "epochs = 20\n",
    "history = model.fit(X_train, y_train, batch_size=32, epochs=epochs, validation_data=(X_test, y_test))"
   ]
  },
  {
   "cell_type": "code",
   "execution_count": 53,
   "id": "b1bfe5fa",
   "metadata": {},
   "outputs": [
    {
     "data": {
      "image/png": "[encoded data removed]",
      "text/plain": [
       "<Figure size 640x480 with 1 Axes>"
      ]
     },
     "metadata": {},
     "output_type": "display_data"
    }
   ],
   "source": [
    "plt.figure(0)\n",
    "plt.plot(history.history['accuracy'], label='training accuracy')\n",
    "plt.plot(history.history['val_accuracy'], label='val accuracy')\n",
    "plt.title('Accuracy')\n",
    "plt.xlabel('epochs')\n",
    "plt.ylabel('accuracy')\n",
    "plt.legend()\n",
    "plt.show()"
   ]
  },
  {
   "cell_type": "code",
   "execution_count": 54,
   "id": "12f8d505",
   "metadata": {},
   "outputs": [
    {
     "data": {
      "image/png": "[encoded data removed]",
      "text/plain": [
       "<Figure size 640x480 with 1 Axes>"
      ]
     },
     "metadata": {},
     "output_type": "display_data"
    }
   ],
   "source": [
    "plt.plot(history.history['loss'], label='training loss')\n",
    "plt.plot(history.history['val_loss'], label='val loss')\n",
    "plt.title('Loss')\n",
    "plt.xlabel('epochs')\n",
    "plt.ylabel('loss')\n",
    "plt.legend()\n",
    "plt.show()"
   ]
  },
  {
   "cell_type": "markdown",
   "id": "0f54efba",
   "metadata": {},
   "source": [
    "# Testing"
   ]
  },
  {
   "cell_type": "code",
   "execution_count": 56,
   "id": "7de2cb9e",
   "metadata": {},
   "outputs": [
    {
     "data": {
      "text/html": [
       "<div>\n",
       "<style scoped>\n",
       "    .dataframe tbody tr th:only-of-type {\n",
       "        vertical-align: middle;\n",
       "    }\n",
       "\n",
       "    .dataframe tbody tr th {\n",
       "        vertical-align: top;\n",
       "    }\n",
       "\n",
       "    .dataframe thead th {\n",
       "        text-align: right;\n",
       "    }\n",
       "</style>\n",
       "<table border=\"1\" class=\"dataframe\">\n",
       "  <thead>\n",
       "    <tr style=\"text-align: right;\">\n",
       "      <th></th>\n",
       "      <th>Width</th>\n",
       "      <th>Height</th>\n",
       "      <th>Roi.X1</th>\n",
       "      <th>Roi.Y1</th>\n",
       "      <th>Roi.X2</th>\n",
       "      <th>Roi.Y2</th>\n",
       "      <th>ClassId</th>\n",
       "      <th>Path</th>\n",
       "    </tr>\n",
       "  </thead>\n",
       "  <tbody>\n",
       "    <tr>\n",
       "      <th>0</th>\n",
       "      <td>53</td>\n",
       "      <td>54</td>\n",
       "      <td>6</td>\n",
       "      <td>5</td>\n",
       "      <td>48</td>\n",
       "      <td>49</td>\n",
       "      <td>16</td>\n",
       "      <td>Test/00000.png</td>\n",
       "    </tr>\n",
       "    <tr>\n",
       "      <th>1</th>\n",
       "      <td>42</td>\n",
       "      <td>45</td>\n",
       "      <td>5</td>\n",
       "      <td>5</td>\n",
       "      <td>36</td>\n",
       "      <td>40</td>\n",
       "      <td>1</td>\n",
       "      <td>Test/00001.png</td>\n",
       "    </tr>\n",
       "    <tr>\n",
       "      <th>2</th>\n",
       "      <td>48</td>\n",
       "      <td>52</td>\n",
       "      <td>6</td>\n",
       "      <td>6</td>\n",
       "      <td>43</td>\n",
       "      <td>47</td>\n",
       "      <td>38</td>\n",
       "      <td>Test/00002.png</td>\n",
       "    </tr>\n",
       "    <tr>\n",
       "      <th>3</th>\n",
       "      <td>27</td>\n",
       "      <td>29</td>\n",
       "      <td>5</td>\n",
       "      <td>5</td>\n",
       "      <td>22</td>\n",
       "      <td>24</td>\n",
       "      <td>33</td>\n",
       "      <td>Test/00003.png</td>\n",
       "    </tr>\n",
       "    <tr>\n",
       "      <th>4</th>\n",
       "      <td>60</td>\n",
       "      <td>57</td>\n",
       "      <td>5</td>\n",
       "      <td>5</td>\n",
       "      <td>55</td>\n",
       "      <td>52</td>\n",
       "      <td>11</td>\n",
       "      <td>Test/00004.png</td>\n",
       "    </tr>\n",
       "    <tr>\n",
       "      <th>...</th>\n",
       "      <td>...</td>\n",
       "      <td>...</td>\n",
       "      <td>...</td>\n",
       "      <td>...</td>\n",
       "      <td>...</td>\n",
       "      <td>...</td>\n",
       "      <td>...</td>\n",
       "      <td>...</td>\n",
       "    </tr>\n",
       "    <tr>\n",
       "      <th>12625</th>\n",
       "      <td>42</td>\n",
       "      <td>41</td>\n",
       "      <td>5</td>\n",
       "      <td>6</td>\n",
       "      <td>37</td>\n",
       "      <td>36</td>\n",
       "      <td>12</td>\n",
       "      <td>Test/12625.png</td>\n",
       "    </tr>\n",
       "    <tr>\n",
       "      <th>12626</th>\n",
       "      <td>50</td>\n",
       "      <td>51</td>\n",
       "      <td>6</td>\n",
       "      <td>5</td>\n",
       "      <td>45</td>\n",
       "      <td>46</td>\n",
       "      <td>33</td>\n",
       "      <td>Test/12626.png</td>\n",
       "    </tr>\n",
       "    <tr>\n",
       "      <th>12627</th>\n",
       "      <td>29</td>\n",
       "      <td>29</td>\n",
       "      <td>6</td>\n",
       "      <td>6</td>\n",
       "      <td>24</td>\n",
       "      <td>24</td>\n",
       "      <td>6</td>\n",
       "      <td>Test/12627.png</td>\n",
       "    </tr>\n",
       "    <tr>\n",
       "      <th>12628</th>\n",
       "      <td>48</td>\n",
       "      <td>49</td>\n",
       "      <td>5</td>\n",
       "      <td>6</td>\n",
       "      <td>43</td>\n",
       "      <td>44</td>\n",
       "      <td>7</td>\n",
       "      <td>Test/12628.png</td>\n",
       "    </tr>\n",
       "    <tr>\n",
       "      <th>12629</th>\n",
       "      <td>32</td>\n",
       "      <td>31</td>\n",
       "      <td>6</td>\n",
       "      <td>5</td>\n",
       "      <td>27</td>\n",
       "      <td>26</td>\n",
       "      <td>10</td>\n",
       "      <td>Test/12629.png</td>\n",
       "    </tr>\n",
       "  </tbody>\n",
       "</table>\n",
       "<p>12630 rows × 8 columns</p>\n",
       "</div>"
      ],
      "text/plain": [
       "       Width  Height  Roi.X1  Roi.Y1  Roi.X2  Roi.Y2  ClassId            Path\n",
       "0         53      54       6       5      48      49       16  Test/00000.png\n",
       "1         42      45       5       5      36      40        1  Test/00001.png\n",
       "2         48      52       6       6      43      47       38  Test/00002.png\n",
       "3         27      29       5       5      22      24       33  Test/00003.png\n",
       "4         60      57       5       5      55      52       11  Test/00004.png\n",
       "...      ...     ...     ...     ...     ...     ...      ...             ...\n",
       "12625     42      41       5       6      37      36       12  Test/12625.png\n",
       "12626     50      51       6       5      45      46       33  Test/12626.png\n",
       "12627     29      29       6       6      24      24        6  Test/12627.png\n",
       "12628     48      49       5       6      43      44        7  Test/12628.png\n",
       "12629     32      31       6       5      27      26       10  Test/12629.png\n",
       "\n",
       "[12630 rows x 8 columns]"
      ]
     },
     "execution_count": 56,
     "metadata": {},
     "output_type": "execute_result"
    }
   ],
   "source": [
    "df = pd.read_csv('./archive/Test.csv')\n",
    "df"
   ]
  },
  {
   "cell_type": "code",
   "execution_count": 57,
   "id": "214a768e",
   "metadata": {},
   "outputs": [],
   "source": [
    "def testing(csv_path):\n",
    "    df = pd.read_csv(csv_path)\n",
    "    y_test = df['ClassId'].values\n",
    "    imgs = df['Path'].values\n",
    "    data = []\n",
    "    for img in imgs:\n",
    "        image = Image.open('./archive/'+img)\n",
    "        image = image.resize((30,30))\n",
    "        image = np.array(image)\n",
    "        data.append(image)\n",
    "    X_test = np.array(data)\n",
    "    return X_test, y_test"
   ]
  },
  {
   "cell_type": "code",
   "execution_count": 58,
   "id": "414c6dd9",
   "metadata": {},
   "outputs": [],
   "source": [
    "X_test, y_test = testing(\"./archive/Test.csv\")"
   ]
  },
  {
   "cell_type": "code",
   "execution_count": 59,
   "id": "4bc4ae39",
   "metadata": {},
   "outputs": [
    {
     "name": "stdout",
     "output_type": "stream",
     "text": [
      "(12630, 30, 30, 3) (12630,)\n"
     ]
    }
   ],
   "source": [
    "print(X_test.shape, y_test.shape)"
   ]
  },
  {
   "cell_type": "code",
   "execution_count": 72,
   "id": "9611ec18",
   "metadata": {
    "scrolled": true
   },
   "outputs": [
    {
     "name": "stdout",
     "output_type": "stream",
     "text": [
      "395/395 [==============================] - 8s 18ms/step\n"
     ]
    },
    {
     "data": {
      "text/plain": [
       "array([[0.00000000e+00, 4.60205258e-34, 5.22491734e-29, ...,\n",
       "        2.34000757e-24, 4.66080824e-29, 3.82248269e-38],\n",
       "       [1.70572349e-07, 9.99965787e-01, 8.74366968e-10, ...,\n",
       "        1.88111732e-24, 0.00000000e+00, 0.00000000e+00],\n",
       "       [0.00000000e+00, 0.00000000e+00, 0.00000000e+00, ...,\n",
       "        0.00000000e+00, 0.00000000e+00, 0.00000000e+00],\n",
       "       ...,\n",
       "       [1.25301522e-05, 3.09166666e-02, 1.10506706e-01, ...,\n",
       "        2.57552601e-04, 9.86676477e-03, 1.17278472e-02],\n",
       "       [4.97312684e-16, 8.05529652e-08, 3.24865056e-07, ...,\n",
       "        4.69107218e-12, 8.66870558e-18, 3.57724502e-15],\n",
       "       [3.77061105e-10, 1.09404766e-07, 7.79192977e-09, ...,\n",
       "        5.25755240e-07, 1.85591731e-09, 1.51449922e-06]], dtype=float32)"
      ]
     },
     "execution_count": 72,
     "metadata": {},
     "output_type": "execute_result"
    }
   ],
   "source": [
    "y_prob = model.predict(X_test)\n",
    "y_prob"
   ]
  },
  {
   "cell_type": "code",
   "execution_count": 79,
   "id": "819d0892",
   "metadata": {},
   "outputs": [],
   "source": [
    "y_pred = []\n",
    "for i in range(len(y_prob)):\n",
    "    y_pred.append(np.argmax(y_prob[i]))"
   ]
  },
  {
   "cell_type": "markdown",
   "id": "ef1bf6f8",
   "metadata": {},
   "source": [
    "# Accuracy"
   ]
  },
  {
   "cell_type": "code",
   "execution_count": 80,
   "id": "1a8d2c10",
   "metadata": {},
   "outputs": [],
   "source": [
    "from sklearn.metrics import accuracy_score"
   ]
  },
  {
   "cell_type": "code",
   "execution_count": 81,
   "id": "f423bb9b",
   "metadata": {},
   "outputs": [
    {
     "data": {
      "text/plain": [
       "0.9425178147268408"
      ]
     },
     "execution_count": 81,
     "metadata": {},
     "output_type": "execute_result"
    }
   ],
   "source": [
    "accuracy_score(y_test, y_pred)"
   ]
  },
  {
   "cell_type": "markdown",
   "id": "94bb3cfa",
   "metadata": {},
   "source": [
    "# Exporting the model"
   ]
  },
  {
   "cell_type": "code",
   "execution_count": 82,
   "id": "a158bb49",
   "metadata": {},
   "outputs": [
    {
     "name": "stdout",
     "output_type": "stream",
     "text": [
      "Model: \"sequential\"\n",
      "_________________________________________________________________\n",
      " Layer (type)                Output Shape              Param #   \n",
      "=================================================================\n",
      " conv2d (Conv2D)             (None, 26, 26, 32)        2432      \n",
      "                                                                 \n",
      " conv2d_1 (Conv2D)           (None, 22, 22, 32)        25632     \n",
      "                                                                 \n",
      " max_pooling2d (MaxPooling2D  (None, 11, 11, 32)       0         \n",
      " )                                                               \n",
      "                                                                 \n",
      " dropout (Dropout)           (None, 11, 11, 32)        0         \n",
      "                                                                 \n",
      " conv2d_2 (Conv2D)           (None, 9, 9, 64)          18496     \n",
      "                                                                 \n",
      " conv2d_3 (Conv2D)           (None, 7, 7, 64)          36928     \n",
      "                                                                 \n",
      " max_pooling2d_1 (MaxPooling  (None, 3, 3, 64)         0         \n",
      " 2D)                                                             \n",
      "                                                                 \n",
      " dropout_1 (Dropout)         (None, 3, 3, 64)          0         \n",
      "                                                                 \n",
      " flatten (Flatten)           (None, 576)               0         \n",
      "                                                                 \n",
      " dense (Dense)               (None, 256)               147712    \n",
      "                                                                 \n",
      " dropout_2 (Dropout)         (None, 256)               0         \n",
      "                                                                 \n",
      " dense_1 (Dense)             (None, 43)                11051     \n",
      "                                                                 \n",
      "=================================================================\n",
      "Total params: 242,251\n",
      "Trainable params: 242,251\n",
      "Non-trainable params: 0\n",
      "_________________________________________________________________\n"
     ]
    }
   ],
   "source": [
    "model.summary()"
   ]
  },
  {
   "cell_type": "code",
   "execution_count": 6,
   "id": "71427c40",
   "metadata": {},
   "outputs": [],
   "source": [
    "import pickle"
   ]
  },
  {
   "cell_type": "code",
   "execution_count": 84,
   "id": "43042800",
   "metadata": {},
   "outputs": [],
   "source": [
    "with open(\"trained_model.pkl\", 'wb') as file:\n",
    "    pickle.dump(model, file)"
   ]
  },
  {
   "cell_type": "markdown",
   "id": "2f207bec",
   "metadata": {},
   "source": [
    "# Loading the model"
   ]
  },
  {
   "cell_type": "code",
   "execution_count": 7,
   "id": "291e6840",
   "metadata": {},
   "outputs": [],
   "source": [
    "with open(\"trained_model.pkl\", 'rb') as file:\n",
    "    model = pickle.load(file)"
   ]
  },
  {
   "cell_type": "code",
   "execution_count": 8,
   "id": "e40f98d7",
   "metadata": {},
   "outputs": [
    {
     "name": "stdout",
     "output_type": "stream",
     "text": [
      "Model: \"sequential\"\n",
      "_________________________________________________________________\n",
      " Layer (type)                Output Shape              Param #   \n",
      "=================================================================\n",
      " conv2d (Conv2D)             (None, 26, 26, 32)        2432      \n",
      "                                                                 \n",
      " conv2d_1 (Conv2D)           (None, 22, 22, 32)        25632     \n",
      "                                                                 \n",
      " max_pooling2d (MaxPooling2D  (None, 11, 11, 32)       0         \n",
      " )                                                               \n",
      "                                                                 \n",
      " dropout (Dropout)           (None, 11, 11, 32)        0         \n",
      "                                                                 \n",
      " conv2d_2 (Conv2D)           (None, 9, 9, 64)          18496     \n",
      "                                                                 \n",
      " conv2d_3 (Conv2D)           (None, 7, 7, 64)          36928     \n",
      "                                                                 \n",
      " max_pooling2d_1 (MaxPooling  (None, 3, 3, 64)         0         \n",
      " 2D)                                                             \n",
      "                                                                 \n",
      " dropout_1 (Dropout)         (None, 3, 3, 64)          0         \n",
      "                                                                 \n",
      " flatten (Flatten)           (None, 576)               0         \n",
      "                                                                 \n",
      " dense (Dense)               (None, 256)               147712    \n",
      "                                                                 \n",
      " dropout_2 (Dropout)         (None, 256)               0         \n",
      "                                                                 \n",
      " dense_1 (Dense)             (None, 43)                11051     \n",
      "                                                                 \n",
      "=================================================================\n",
      "Total params: 242,251\n",
      "Trainable params: 242,251\n",
      "Non-trainable params: 0\n",
      "_________________________________________________________________\n"
     ]
    }
   ],
   "source": [
    "model.summary()"
   ]
  },
  {
   "cell_type": "code",
   "execution_count": 10,
   "id": "070bb525",
   "metadata": {},
   "outputs": [],
   "source": [
    "classes = {0:\"Speed Limit 20 km/h\",\n",
    "          1:\"Speed Limit 30 km/h\",\n",
    "          2:\"Speed Limit 50 km/h\",\n",
    "          3:\"Speed Limit 60 km/h\",\n",
    "          4:\"Speed Limit 70 km/h\",\n",
    "          5:\"Speed Limit 80 km/h\",\n",
    "          6:\"End of Speed Limit 80 km/h\",\n",
    "          7:\"Speed Limit 100 km/h\",\n",
    "          8:\"Speed Limit 120 km/h\",\n",
    "          9:\"No Passing\",\n",
    "          10:\"No Passing Vehicle over 3.5 tons\",\n",
    "          11:\"Right-of-way at Intersection\",\n",
    "          12:\"Priority Road\",\n",
    "          13:\"Yield\",\n",
    "          14:\"Stop\",\n",
    "          15:\"No Vehicles\",\n",
    "          16:\"Vehicle > 3.5 tons Prohibited\",\n",
    "          17:\"No Entry\",\n",
    "          18:\"General Caution\",\n",
    "          19:\"Dangerous Curve Left\",\n",
    "          20:\"Dangerous Curve Right\",\n",
    "          21:\"Double Curve\",\n",
    "          22:\"Bumpy Road\",\n",
    "          23:\"Slippery Road\",\n",
    "          24:\"Road Narrows on the Right\",\n",
    "          25:\"Road Work\",\n",
    "          26:\"Traffic Signals\",\n",
    "          27:\"Pedestrians Crossing\",\n",
    "          28:\"Children Crossing\",\n",
    "          29:\"Bicycles Crossing\",\n",
    "          30:\"Beware of Ice/Snow\",\n",
    "          31:\"Wild Animals Crossing\",\n",
    "          32:\"End Speed + Passing Limits\",\n",
    "          33:\"Turn Right Ahead\",\n",
    "          34:\"Turn Left Ahead\",\n",
    "          35:\"Ahead Only\",\n",
    "          36:\"Go Straight or Right\",\n",
    "          37:\"Go Straight or Left\",\n",
    "          38:\"Keep Right\",\n",
    "          39:\"Keep Left\",\n",
    "          40:\"Roundabout Mandatory\",\n",
    "          41:\"End of No Passing\",\n",
    "          42:\"End of No Passing Vehicle over 3.5 tons\"}"
   ]
  },
  {
   "cell_type": "code",
   "execution_count": 46,
   "id": "46912d99",
   "metadata": {},
   "outputs": [],
   "source": [
    "def get_prediction(image_path):\n",
    "    d = []\n",
    "    image = Image.open(image_path)\n",
    "    resized_image = image.resize((30,30))\n",
    "    d.append(np.array(resized_image))\n",
    "    prob = model.predict(np.array(d))\n",
    "    pred = np.argmax(prob)\n",
    "    return image,pred"
   ]
  },
  {
   "cell_type": "code",
   "execution_count": 63,
   "id": "dbead6ba",
   "metadata": {},
   "outputs": [
    {
     "name": "stdout",
     "output_type": "stream",
     "text": [
      "1/1 [==============================] - 0s 58ms/step\n",
      "Predicted Traffic Sign is: Speed Limit 70 km/h\n"
     ]
    },
    {
     "data": {
      "text/plain": [
       "<matplotlib.image.AxesImage at 0x19bdc6d5d90>"
      ]
     },
     "execution_count": 63,
     "metadata": {},
     "output_type": "execute_result"
    },
    {
     "data": {
      "image/png": "[encoded data removed]",
      "text/plain": [
       "<Figure size 640x480 with 1 Axes>"
      ]
     },
     "metadata": {},
     "output_type": "display_data"
    }
   ],
   "source": [
    "test_image = os.path.join(test_path,\"00014.png\")\n",
    "plot, pred = get_prediction(test_image)\n",
    "print(f\"Predicted Traffic Sign is: {classes[pred]}\")\n",
    "plt.imshow(plot)"
   ]
  },
  {
   "cell_type": "code",
   "execution_count": null,
   "id": "1f536e99",
   "metadata": {},
   "outputs": [],
   "source": []
  }
 ],
 "metadata": {
  "kernelspec": {
   "display_name": "Python 3 (ipykernel)",
   "language": "python",
   "name": "python3"
  },
  "language_info": {
   "codemirror_mode": {
    "name": "ipython",
    "version": 3
   },
   "file_extension": ".py",
   "mimetype": "text/x-python",
   "name": "python",
   "nbconvert_exporter": "python",
   "pygments_lexer": "ipython3",
   "version": "3.11.4"
  }
 },
 "nbformat": 4,
 "nbformat_minor": 5
}
